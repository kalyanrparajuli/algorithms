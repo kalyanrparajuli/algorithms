{
 "cells": [
  {
   "cell_type": "code",
   "execution_count": 10,
   "metadata": {},
   "outputs": [],
   "source": [
    "# all imports\n",
    "from helpers import *\n",
    "from quick_find import QuickFind\n",
    "from quick_union import QuickUnion"
   ]
  },
  {
   "cell_type": "code",
   "execution_count": 11,
   "metadata": {},
   "outputs": [],
   "source": [
    "graph_size=20                  # number of nodes [Graph size]\n",
    "union_size=10                #number of desired union operations"
   ]
  },
  {
   "cell_type": "code",
   "execution_count": 12,
   "metadata": {},
   "outputs": [],
   "source": [
    "unions=create_network(graph_size,union_size)"
   ]
  },
  {
   "cell_type": "code",
   "execution_count": 13,
   "metadata": {},
   "outputs": [],
   "source": [
    "qf=QuickFind(graph_size)\n",
    "for un in unions:\n",
    "    if un[0] is not un[1]:\n",
    "        result=qf.union(un[0], un[1])"
   ]
  },
  {
   "cell_type": "code",
   "execution_count": 14,
   "metadata": {},
   "outputs": [
    {
     "name": "stdout",
     "output_type": "stream",
     "text": [
      "[[4, 15], [4, 0], [10, 7], [10, 6], [16, 13], [3, 19], [13, 10], [3, 10], [7, 1], [16, 18]]\n"
     ]
    }
   ],
   "source": [
    "print(unions)"
   ]
  },
  {
   "cell_type": "code",
   "execution_count": 15,
   "metadata": {},
   "outputs": [
    {
     "name": "stdout",
     "output_type": "stream",
     "text": [
      "[ 0  1  2  3  4  5  6  7  8  9 10 11 12 13 14 15 16 17 18 19]\n",
      "[ 0 18  2 18  0  5 18 18  8  9 18 11 12 18 14  0 18 17 18 18]\n"
     ]
    }
   ],
   "source": [
    "import numpy as np\n",
    "print(np.array(range(0,graph_size)))\n",
    "print(qf.nodes)"
   ]
  },
  {
   "cell_type": "code",
   "execution_count": 16,
   "metadata": {},
   "outputs": [],
   "source": [
    "qu=QuickUnion(graph_size)\n",
    "for un in unions:\n",
    "    if un[0] is not un[1]:\n",
    "        result=qu.union(un[0], un[1])"
   ]
  },
  {
   "cell_type": "code",
   "execution_count": 17,
   "metadata": {},
   "outputs": [
    {
     "name": "stdout",
     "output_type": "stream",
     "text": [
      "[ 0  1  2  3  4  5  6  7  8  9 10 11 12 13 14 15 16 17 18 19]\n",
      "[ 0 18  2 19 15  5  1  6  8  9  7 11 12  6 14  0 13 17 18  6]\n"
     ]
    }
   ],
   "source": [
    "print(np.array(range(0,graph_size)))\n",
    "print(qu.nodes)"
   ]
  },
  {
   "cell_type": "code",
   "execution_count": 18,
   "metadata": {},
   "outputs": [
    {
     "name": "stdout",
     "output_type": "stream",
     "text": [
      "9 12 False False\n",
      "10 18 True True\n",
      "0 0 True True\n",
      "6 11 False False\n",
      "18 19 True True\n",
      "18 8 False False\n",
      "10 9 False False\n",
      "18 9 False False\n",
      "13 3 True True\n",
      "8 19 False False\n"
     ]
    }
   ],
   "source": [
    "cu=union_check(graph_size, union_size)\n",
    "for un in cu:\n",
    "    print(un[0], un[1],\n",
    "         qf.find(un[0], un[1]),\n",
    "         qu.find(un[0], un[1]))\n",
    "    "
   ]
  }
 ],
 "metadata": {
  "kernelspec": {
   "display_name": "Python 3",
   "language": "python",
   "name": "python3"
  },
  "language_info": {
   "codemirror_mode": {
    "name": "ipython",
    "version": 3
   },
   "file_extension": ".py",
   "mimetype": "text/x-python",
   "name": "python",
   "nbconvert_exporter": "python",
   "pygments_lexer": "ipython3",
   "version": "3.7.5"
  }
 },
 "nbformat": 4,
 "nbformat_minor": 4
}
